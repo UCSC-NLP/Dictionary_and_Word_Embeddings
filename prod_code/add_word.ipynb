{
 "cells": [
  {
   "cell_type": "code",
   "execution_count": null,
   "id": "c4a84a79-9c00-4c8a-8b10-b347313543a0",
   "metadata": {},
   "outputs": [],
   "source": []
  },
  {
   "cell_type": "code",
   "execution_count": 15,
   "id": "119169ad-ff9f-4323-809c-6148d0120af0",
   "metadata": {},
   "outputs": [],
   "source": [
    "# texts = [\"An instrument that is played in Indian classical music\", #ENGLISH\n",
    "#         \"एक वाद्य जो भारतीय शास्त्रीय संगीत में बजाया जाता है\", #HINDI\n",
    "#         \"Инструмент, на котором играют в индийской классической музыке.\", #RUSSIAN\n",
    "#         \"آلة تُعزف في الموسيقى الكلاسيكية الهندية\", #ARABIC\n",
    "#         \"在印度古典音樂中演奏的樂器\", #CHINESE\n",
    "#         \"Un instrumento que se toca en la música clásica india.\", #SPANISH\n",
    "#         \"ভারতীয় শাস্ত্রীয় সঙ্গীতে বাজানো হয় এমন একটি যন্ত্র\",#BANGLA\n",
    "#         \"ഇന്ത്യൻ ശാസ്ത്രീയ സംഗീതത്തിൽ വായിക്കുന്ന ഒരു ഉപകരണം\", #MALAYALAM,\n",
    "#          \"Ein Instrument, das in der klassischen indischen Musik gespielt wird\", #GERMAN\n",
    "#         \"Instrument, na którym gra się w indyjskiej muzyce klasycznej\"] #POLISH \n",
    "\n",
    "\n",
    "# texts = [\"To make someone calm\", #ENGLISH\n",
    "#         \"किसी को शांत करने के लिएा\", #HINDI\n",
    "#         \"Чтобы успокоить кого-то\", #RUSSIAN\n",
    "#         \"لجعل شخص ما هادئا\", #ARABIC\n",
    "#         \"讓一個人平靜\", #CHINESE\n",
    "#         \"Para hacer que alguien se calme.\", #SPANISH\n",
    "#         \"কাউকে শান্ত করার জন্য\",#BANGLA\n",
    "#         \"ഒരാളെ ശാന്തനാക്കാൻ\", #MALAYALAM,\n",
    "#          \"Jemanden beruhigen\", #GERMAN\n",
    "#         \"Aby kogoś uspokoić\"] #POLISH \n",
    "\n",
    "\n",
    "# for text in texts:\n",
    "#     print(text)\n",
    "#     pred = get_predictions(text)\n",
    "    \n",
    "#     print(list(dict.fromkeys(pred))[:5])\n",
    "#     print('\\n-----')"
   ]
  },
  {
   "cell_type": "code",
   "execution_count": null,
   "id": "42168ff7-9dc1-4899-aee2-3a776206c9b1",
   "metadata": {},
   "outputs": [],
   "source": []
  },
  {
   "cell_type": "code",
   "execution_count": 87,
   "id": "11114206-c8b9-4a36-9ef2-52c792a0299c",
   "metadata": {},
   "outputs": [],
   "source": [
    "# add_new_word(gloss, word, tokenizer, model, data_collator, sim, faiss_index, faiss_idx_word_lookup)\n",
    "# def add_new_word(gloss, word, tokenizer, model, data_collator, sim, faiss_index, faiss_idx_word_lookup):\n",
    "#     tokenized_data = tokenizer([gloss])\n",
    "#     tokenized_data = data_collator(tokenized_data)\n",
    "#     out = model(tokenized_data, mode = 'Test')\n",
    "#     out = out.detach().cpu().numpy().astype(np.float32)\n",
    "#     faiss.normalize_L2(out)\n",
    "    \n",
    "#     faiss_index.add(out)\n",
    "    \n",
    "#     max_key = list(faiss_idx_word_lookup.keys())[-1]\n",
    "#     faiss_idx_word_lookup[max_key+1] = word\n",
    "    \n",
    "#     return faiss_index, faiss_idx_word_lookup"
   ]
  },
  {
   "cell_type": "code",
   "execution_count": 101,
   "id": "ff3824f2-f700-4eeb-a84e-cb38e7234998",
   "metadata": {},
   "outputs": [],
   "source": [
    "gloss = \"a flower that looks like broccoli\"\n",
    "word = \"frockily\"\n",
    "\n"
   ]
  },
  {
   "cell_type": "code",
   "execution_count": 102,
   "id": "9324c35e-4629-480c-8c01-6653d7dd253f",
   "metadata": {},
   "outputs": [],
   "source": [
    "faiss_index, faiss_idx_word_lookup = \\\n",
    "add_new_word(gloss, word, tokenizer, model, data_collator, sim, faiss_index, faiss_idx_word_lookup)\n",
    "\n",
    "\n",
    "\n"
   ]
  },
  {
   "cell_type": "code",
   "execution_count": 86,
   "id": "6923c402-01b4-4758-831e-aabf68e307b1",
   "metadata": {},
   "outputs": [],
   "source": [
    "import faiss"
   ]
  },
  {
   "cell_type": "code",
   "execution_count": 117,
   "id": "d4622c46-5075-4488-b322-a9aa526e13bf",
   "metadata": {},
   "outputs": [],
   "source": [
    "check_gloss = \"broccoli\"\n",
    "\n",
    "tokenized_data = tokenizer([check_gloss])\n",
    "tokenized_data = data_collator(tokenized_data)\n",
    "out = model(tokenized_data, mode = 'Test')\n",
    "out = out.detach().cpu().numpy().astype(np.float32)\n",
    "faiss.normalize_L2(out)\n",
    "D,I = faiss_index.search(out,10)"
   ]
  },
  {
   "cell_type": "code",
   "execution_count": 118,
   "id": "9f389e1d-df73-4bab-b9c8-6ffbd27784ad",
   "metadata": {},
   "outputs": [
    {
     "data": {
      "text/plain": [
       "['frockily',\n",
       " 'broccolo',\n",
       " 'leather ball',\n",
       " 'risoni',\n",
       " 'spinage',\n",
       " 'corianders',\n",
       " 'zucchine',\n",
       " 'lumache',\n",
       " 'sunblush',\n",
       " 'rapini']"
      ]
     },
     "execution_count": 118,
     "metadata": {},
     "output_type": "execute_result"
    }
   ],
   "source": [
    "[faiss_idx_word_lookup[i] for i in I[0]]"
   ]
  },
  {
   "cell_type": "code",
   "execution_count": 107,
   "id": "584de097-5cfa-4e18-9a1a-61c03d6a4692",
   "metadata": {},
   "outputs": [
    {
     "data": {
      "text/plain": [
       "array([[377355, 196283, 377354, 330519, 302964, 143185, 362058, 299439,\n",
       "        172024, 269908]])"
      ]
     },
     "execution_count": 107,
     "metadata": {},
     "output_type": "execute_result"
    }
   ],
   "source": [
    "I"
   ]
  },
  {
   "cell_type": "code",
   "execution_count": 108,
   "id": "0fad8e1f-b47d-4784-9801-b97f0162f255",
   "metadata": {},
   "outputs": [
    {
     "data": {
      "text/plain": [
       "array([[0.79496515, 0.78571236, 0.7845628 , 0.77740866, 0.7754187 ,\n",
       "        0.7729283 , 0.7682584 , 0.7682584 , 0.76764673, 0.7665928 ]],\n",
       "      dtype=float32)"
      ]
     },
     "execution_count": 108,
     "metadata": {},
     "output_type": "execute_result"
    }
   ],
   "source": [
    "D"
   ]
  },
  {
   "cell_type": "code",
   "execution_count": null,
   "id": "d31dcc69-fa67-4659-a71b-e015a0f69642",
   "metadata": {},
   "outputs": [],
   "source": []
  }
 ],
 "metadata": {
  "kernelspec": {
   "display_name": "Python 3 (ipykernel)",
   "language": "python",
   "name": "python3"
  },
  "language_info": {
   "codemirror_mode": {
    "name": "ipython",
    "version": 3
   },
   "file_extension": ".py",
   "mimetype": "text/x-python",
   "name": "python",
   "nbconvert_exporter": "python",
   "pygments_lexer": "ipython3",
   "version": "3.9.7"
  }
 },
 "nbformat": 4,
 "nbformat_minor": 5
}
