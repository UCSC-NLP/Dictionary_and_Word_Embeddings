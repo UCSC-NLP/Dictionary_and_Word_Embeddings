{
 "cells": [
  {
   "cell_type": "code",
   "execution_count": 1,
   "id": "83d6020b-2808-4952-9b26-16a6a844efa5",
   "metadata": {},
   "outputs": [
    {
     "name": "stdout",
     "output_type": "stream",
     "text": [
      "Seed set to 42\n",
      "Preaparing Model and Search Attributes...\n",
      "\n",
      "Loading Tokenizer: xlm-roberta-large ...\n",
      "Loading from : /data/users/ugarg/capstone/code/Dictionary_and_Word_Embeddings-main/gloss2word/v2/checkpoints/xlm-roberta-large_model_cosine_loss_fasttext_embs_True_adapter.pt\n",
      "\n",
      "Using device cuda:0 for training...\n"
     ]
    },
    {
     "name": "stderr",
     "output_type": "stream",
     "text": [
      "Some weights of the model checkpoint at xlm-roberta-large were not used when initializing XLMRobertaModel: ['lm_head.dense.bias', 'lm_head.layer_norm.weight', 'lm_head.decoder.weight', 'lm_head.dense.weight', 'lm_head.layer_norm.bias', 'lm_head.bias']\n",
      "- This IS expected if you are initializing XLMRobertaModel from the checkpoint of a model trained on another task or with another architecture (e.g. initializing a BertForSequenceClassification model from a BertForPreTraining model).\n",
      "- This IS NOT expected if you are initializing XLMRobertaModel from the checkpoint of a model that you expect to be exactly identical (initializing a BertForSequenceClassification model from a BertForSequenceClassification model).\n"
     ]
    },
    {
     "name": "stdout",
     "output_type": "stream",
     "text": [
      "Loading Checkpoint ...\n",
      "Setting Models state to checkpoint...\n",
      "Model state set.\n"
     ]
    }
   ],
   "source": [
    "%load_ext autoreload\n",
    "%autoreload 2\n",
    "import os\n",
    "import sys\n",
    "import joblib\n",
    "import json\n",
    "import pandas as pd\n",
    "import numpy as np\n",
    "import faiss\n",
    "sys.path.append('../')\n",
    "os.environ['TRANSFORMERS_CACHE'] = '/data/users/ugarg/hf/hf_cache/'\n",
    "os.environ['CUDA_VISIBLE_DEVICES']='3'\n",
    "from prod_code.get_predictions import GetPredictions\n",
    "# preds = json.load(open('/data/users/kartik/Dictionary_and_Word_Embeddings/ipython_notebooks/saved_models/gpt2_exp1/preds_50_100_0.5.json'))['dev']\n",
    "# len(preds)\n",
    "# dev = pd.DataFrame(preds)\n",
    "# dev = dev.explode('pred_gloss').reset_index()\n",
    "# dev  = dev.rename(columns = {'index':'wid'})\n",
    "# dev['gloss'] = dev['pred_gloss']\n",
    "\n",
    "getpred = GetPredictions('multilingual')\n",
    "#ranks, nearest = getpred.get_predictions(dev)\n"
   ]
  },
  {
   "cell_type": "code",
   "execution_count": 2,
   "id": "1035b120-ba5f-4cf4-ae16-2b1b9594aaa7",
   "metadata": {},
   "outputs": [],
   "source": [
    "val = joblib.load('../clean_data/val.joblib')\n",
    "with open(\"/data/users/kartik/Dictionary_and_Word_Embeddings/data/translated/en-hi_dev_trans.json\", \"rb\") as f:\n",
    "    val_de = json.load(f)\n",
    "    \n",
    "val_de = pd.DataFrame(val_de)\n",
    "df = val_de.merge(val, left_on = 'src', right_on = 'gloss',).reset_index(drop = True)"
   ]
  },
  {
   "cell_type": "code",
   "execution_count": null,
   "id": "91c28fc1-aeac-4761-9af2-11c5109f0c8c",
   "metadata": {},
   "outputs": [],
   "source": [
    "ranks, nearest = getpred.get_predictions(val, NEAREST_NEIGHBOUR_NUM = 1000, pred_batch = 1) #"
   ]
  },
  {
   "cell_type": "code",
   "execution_count": 3,
   "id": "e3ca97cf-9a5d-4754-a5e6-9ff111a5f459",
   "metadata": {},
   "outputs": [
    {
     "data": {
      "text/plain": [
       "['sprint',\n",
       " 'breakneck',\n",
       " 'high-speed',\n",
       " 'downhill',\n",
       " 'acceleration',\n",
       " 'slalom',\n",
       " 'lightning-quick',\n",
       " 'deceleration',\n",
       " 'outrun',\n",
       " 'lunge',\n",
       " 'slow',\n",
       " 'slowpoke',\n",
       " 'full-bore',\n",
       " 'cursorial',\n",
       " 'headlong',\n",
       " 'accelerating',\n",
       " 'run']"
      ]
     },
     "execution_count": 3,
     "metadata": {},
     "output_type": "execute_result"
    }
   ],
   "source": [
    "getpred.get_prediction_on_sentence(\"आराम और सामग्री की स्थिति में।\")"
   ]
  },
  {
   "cell_type": "code",
   "execution_count": null,
   "id": "e1e928ac-5f5d-4498-b608-edd2a4e39a85",
   "metadata": {},
   "outputs": [],
   "source": []
  }
 ],
 "metadata": {
  "kernelspec": {
   "display_name": "Python 3 (ipykernel)",
   "language": "python",
   "name": "python3"
  },
  "language_info": {
   "codemirror_mode": {
    "name": "ipython",
    "version": 3
   },
   "file_extension": ".py",
   "mimetype": "text/x-python",
   "name": "python",
   "nbconvert_exporter": "python",
   "pygments_lexer": "ipython3",
   "version": "3.9.7"
  }
 },
 "nbformat": 4,
 "nbformat_minor": 5
}
